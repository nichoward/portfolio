{
  "nbformat": 4,
  "nbformat_minor": 0,
  "metadata": {
    "colab": {
      "name": "Untitled2.ipynb",
      "provenance": [],
      "authorship_tag": "ABX9TyPhh6enFF2RXqYnNN9fgqfe"
    },
    "kernelspec": {
      "name": "python3",
      "display_name": "Python 3"
    }
  },
  "cells": [
    {
      "cell_type": "code",
      "metadata": {
        "id": "HeMUFJnkn43p",
        "colab_type": "code",
        "colab": {
          "base_uri": "https://localhost:8080/",
          "height": 34
        },
        "outputId": "3879d29b-0b71-4822-f149-d123b1e0a7e6"
      },
      "source": [
        "#convert roman numerals into readable numbers\n",
        "\n",
        "def roman_numerals(numeral):\n",
        "    num_dict = {\"I\": 1, \"V\" : 5, \"X\" : 10, 'L' : 50 , 'C':100, 'D':500, 'M': 1000}\n",
        "    sum_num = 0\n",
        "    for n in range(len(numeral)):\n",
        "        if len(numeral) == n+1:\n",
        "            sum_num = sum_num + num_dict[numeral[n]]\n",
        "        elif numeral[n] != numeral[n+1] and num_dict[numeral[n]] < num_dict[numeral[n+1]]:\n",
        "            sum_num = sum_num - num_dict[numeral[n]]\n",
        "        else:\n",
        "            sum_num = sum_num + num_dict[numeral[n]]\n",
        "    return sum_num\n",
        "\n",
        "roman_numerals('XL')\n"
      ],
      "execution_count": 1,
      "outputs": [
        {
          "output_type": "execute_result",
          "data": {
            "text/plain": [
              "40"
            ]
          },
          "metadata": {
            "tags": []
          },
          "execution_count": 1
        }
      ]
    }
  ]
}