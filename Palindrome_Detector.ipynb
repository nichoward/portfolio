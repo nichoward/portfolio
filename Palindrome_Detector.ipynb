{
  "nbformat": 4,
  "nbformat_minor": 0,
  "metadata": {
    "colab": {
      "name": "Untitled1.ipynb",
      "provenance": [],
      "collapsed_sections": [],
      "authorship_tag": "ABX9TyPBFqfRZoDqy3S+x8SzprSV"
    },
    "kernelspec": {
      "name": "python3",
      "display_name": "Python 3"
    }
  },
  "cells": [
    {
      "cell_type": "code",
      "metadata": {
        "id": "z99jBxTlkp-I",
        "colab_type": "code",
        "colab": {
          "base_uri": "https://localhost:8080/",
          "height": 51
        },
        "outputId": "77ae1c39-561a-4231-d59d-0ee47ba2b94a"
      },
      "source": [
        "#palindrome detector \n",
        "\n",
        "def palindrome(num):\n",
        "    num_str = str(num)\n",
        "    stringlength=len(num_str) # calculate length of the list\n",
        "    slicedString=num_str[stringlength::-1]\n",
        "    return slicedString == num_str\n",
        "\n",
        "print(palindrome(-676))\n",
        "print(palindrome(676))"
      ],
      "execution_count": 2,
      "outputs": [
        {
          "output_type": "stream",
          "text": [
            "False\n",
            "True\n"
          ],
          "name": "stdout"
        }
      ]
    }
  ]
}