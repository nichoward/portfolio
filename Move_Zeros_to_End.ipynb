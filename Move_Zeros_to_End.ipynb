{
  "nbformat": 4,
  "nbformat_minor": 0,
  "metadata": {
    "colab": {
      "name": "Untitled2.ipynb",
      "provenance": [],
      "authorship_tag": "ABX9TyMKfeqtpnupTEWT90LJssSn"
    },
    "kernelspec": {
      "name": "python3",
      "display_name": "Python 3"
    }
  },
  "cells": [
    {
      "cell_type": "code",
      "metadata": {
        "id": "HeMUFJnkn43p",
        "colab_type": "code",
        "colab": {
          "base_uri": "https://localhost:8080/",
          "height": 68
        },
        "outputId": "f98d409f-64da-4435-bc58-dc1495aac649"
      },
      "source": [
        "#move 0s to the end of an array\n",
        "nums = [0,1,0,3,12]\n",
        "\n",
        "single_num = [nums.count(x) == 1 for x in nums]\n",
        "print(single_num)\n",
        "index_num = [i for i in range(len(single_num)) if single_num[i] == True] \n",
        "print(index_num)\n",
        "\n",
        "is_zero = [x == 0 for x in nums]\n",
        "index_zero = [i for i in range(len(is_zero)) if is_zero[i] == True]\n",
        "index_non_zero = [i for i in range(len(is_zero)) if is_zero[i] == False]\n",
        "new_order = index_non_zero + index_zero\n",
        "final_list = [nums[i] for i in new_order]\n",
        "print(final_list)"
      ],
      "execution_count": 4,
      "outputs": [
        {
          "output_type": "stream",
          "text": [
            "[False, True, False, True, True]\n",
            "[1, 3, 4]\n",
            "[1, 3, 12, 0, 0]\n"
          ],
          "name": "stdout"
        }
      ]
    }
  ]
}