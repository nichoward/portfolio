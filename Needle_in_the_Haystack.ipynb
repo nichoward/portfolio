{
  "nbformat": 4,
  "nbformat_minor": 0,
  "metadata": {
    "kernelspec": {
      "display_name": "Python 3",
      "language": "python",
      "name": "python3"
    },
    "language_info": {
      "codemirror_mode": {
        "name": "ipython",
        "version": 3
      },
      "file_extension": ".py",
      "mimetype": "text/x-python",
      "name": "python",
      "nbconvert_exporter": "python",
      "pygments_lexer": "ipython3",
      "version": "3.8.2"
    },
    "colab": {
      "name": "Needle in the Haystack.ipynb",
      "provenance": []
    }
  },
  "cells": [
    {
      "cell_type": "code",
      "metadata": {
        "id": "HdNa8IAZp4IX",
        "colab_type": "code",
        "colab": {}
      },
      "source": [
        "#find the index of substring in string\n",
        "def strStr(haystack, needle):\n",
        "    if needle == '':\n",
        "        return(0)\n",
        "    else:\n",
        "        try: \n",
        "            return(haystack.index(needle))\n",
        "        except:\n",
        "            return(-1)"
      ],
      "execution_count": 0,
      "outputs": []
    },
    {
      "cell_type": "code",
      "metadata": {
        "id": "HvP6TwCHp4Ie",
        "colab_type": "code",
        "colab": {
          "base_uri": "https://localhost:8080/",
          "height": 34
        },
        "outputId": "2f02f283-6396-40a4-a560-d3667a2c7c63"
      },
      "source": [
        "haystack = \"hello\"\n",
        "needle = \"ll\"\n",
        "\n",
        "\n",
        "strStr(haystack, needle)  "
      ],
      "execution_count": 2,
      "outputs": [
        {
          "output_type": "execute_result",
          "data": {
            "text/plain": [
              "2"
            ]
          },
          "metadata": {
            "tags": []
          },
          "execution_count": 2
        }
      ]
    },
    {
      "cell_type": "code",
      "metadata": {
        "id": "hmtMxvH7p4Im",
        "colab_type": "code",
        "colab": {
          "base_uri": "https://localhost:8080/",
          "height": 34
        },
        "outputId": "e3931ecc-ce9c-45f7-b4e6-49ba53c2fdca"
      },
      "source": [
        "haystack = \"aaaaa\"\n",
        "needle = \"bba\"\n",
        "\n",
        "strStr(haystack, needle) "
      ],
      "execution_count": 3,
      "outputs": [
        {
          "output_type": "execute_result",
          "data": {
            "text/plain": [
              "-1"
            ]
          },
          "metadata": {
            "tags": []
          },
          "execution_count": 3
        }
      ]
    }
  ]
}