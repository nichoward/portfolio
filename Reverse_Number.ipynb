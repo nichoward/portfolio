{
  "nbformat": 4,
  "nbformat_minor": 0,
  "metadata": {
    "colab": {
      "name": "Untitled1.ipynb",
      "provenance": [],
      "collapsed_sections": [],
      "authorship_tag": "ABX9TyOLsT+1iyVaagJjLd3+1dLT"
    },
    "kernelspec": {
      "name": "python3",
      "display_name": "Python 3"
    }
  },
  "cells": [
    {
      "cell_type": "code",
      "metadata": {
        "id": "z99jBxTlkp-I",
        "colab_type": "code",
        "colab": {
          "base_uri": "https://localhost:8080/",
          "height": 34
        },
        "outputId": "37d5c761-fee0-4e9e-e267-b39d28032c2c"
      },
      "source": [
        "#reverse the number \n",
        "\n",
        "def reverse_number(n):\n",
        "    rev_num = 0 \n",
        "    while(n > 0): \n",
        "        a = n % 10\n",
        "        rev_num = rev_num * 10 + a \n",
        "        n = int(n / 10)\n",
        "    return rev_num\n",
        "\n",
        "reverse_number(112)\n"
      ],
      "execution_count": 4,
      "outputs": [
        {
          "output_type": "execute_result",
          "data": {
            "text/plain": [
              "211"
            ]
          },
          "metadata": {
            "tags": []
          },
          "execution_count": 4
        }
      ]
    }
  ]
}