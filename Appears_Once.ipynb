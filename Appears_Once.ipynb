{
  "nbformat": 4,
  "nbformat_minor": 0,
  "metadata": {
    "colab": {
      "name": "Untitled2.ipynb",
      "provenance": [],
      "authorship_tag": "ABX9TyMyHXGuMnqE4Xzfas2tPKG4"
    },
    "kernelspec": {
      "name": "python3",
      "display_name": "Python 3"
    }
  },
  "cells": [
    {
      "cell_type": "code",
      "metadata": {
        "id": "HeMUFJnkn43p",
        "colab_type": "code",
        "colab": {
          "base_uri": "https://localhost:8080/",
          "height": 34
        },
        "outputId": "024bfda0-d80a-488f-ba3b-506b742102e6"
      },
      "source": [
        "#number that only appears once in the list\n",
        "num_list = [2,6,3,2,3,5,6,6,7,7]\n",
        "\n",
        "def single_number(num_list):\n",
        "    for i in range(len(num_list)):\n",
        "        count = num_list.count(num_list[i])\n",
        "        if count == 1:\n",
        "            return(num_list[i])\n",
        "            break\n",
        "    \n",
        "single_number(num_list)"
      ],
      "execution_count": 2,
      "outputs": [
        {
          "output_type": "execute_result",
          "data": {
            "text/plain": [
              "5"
            ]
          },
          "metadata": {
            "tags": []
          },
          "execution_count": 2
        }
      ]
    }
  ]
}