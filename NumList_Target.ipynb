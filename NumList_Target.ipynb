{
  "nbformat": 4,
  "nbformat_minor": 0,
  "metadata": {
    "colab": {
      "name": "Untitled1.ipynb",
      "provenance": [],
      "collapsed_sections": [],
      "authorship_tag": "ABX9TyPS5Z4PP1EAUA+Qe96ybNer"
    },
    "kernelspec": {
      "name": "python3",
      "display_name": "Python 3"
    }
  },
  "cells": [
    {
      "cell_type": "code",
      "metadata": {
        "id": "z99jBxTlkp-I",
        "colab_type": "code",
        "colab": {
          "base_uri": "https://localhost:8080/",
          "height": 34
        },
        "outputId": "faabaacd-b3fb-4351-86f0-cbc8b85cecf5"
      },
      "source": [
        "#given a list of numbers which ones add up to the target?\n",
        "n = [2, 7, 3, 6, 9, 11]\n",
        "target = 8\n",
        "goal = 0\n",
        "\n",
        "def target_sum(num_list, target):\n",
        "    for x in range(len(n)):\n",
        "        goal = target - n[x]\n",
        "        in_list = n.count(goal)\n",
        "        if in_list > 0:\n",
        "            print(n[x], goal)\n",
        "            break\n",
        "\n",
        "target_sum(n, target)"
      ],
      "execution_count": 3,
      "outputs": [
        {
          "output_type": "stream",
          "text": [
            "2 6\n"
          ],
          "name": "stdout"
        }
      ]
    }
  ]
}