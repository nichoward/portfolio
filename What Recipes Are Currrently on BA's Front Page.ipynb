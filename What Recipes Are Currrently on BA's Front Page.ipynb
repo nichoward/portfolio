{
 "cells": [
  {
   "cell_type": "code",
   "execution_count": null,
   "metadata": {},
   "outputs": [],
   "source": [
    "#scrape data from BA's front recipe page\n",
    "import requests\n",
    "from bs4 import BeautifulSoup\n",
    "\n",
    "URL = 'https://www.bonappetit.com/recipes'\n",
    "page = requests.get(URL)\n",
    "soup = BeautifulSoup(page.content, 'html.parser')"
   ]
  },
  {
   "cell_type": "code",
   "execution_count": null,
   "metadata": {},
   "outputs": [],
   "source": [
    "#get the titles and links of the recipes from the main recipe page\n",
    "recipe_title = soup.find_all('h1', class_='card-hed')\n",
    "\n",
    "#get the recipe description from the recipe main page \n",
    "recipe_description = soup.find_all('p', class_='card-copy')\n",
    "\n",
    "#store title, link, and descrption in dictionary\n",
    "recipe_dictionary = {}\n",
    "\n",
    "for title, description in zip(recipe_title, recipe_description):\n",
    "    recipe_dictionary[title.text] = [URL + title.find('a')['href'], description.text]"
   ]
  }
 ],
 "metadata": {
  "kernelspec": {
   "display_name": "Python 3",
   "language": "python",
   "name": "python3"
  },
  "language_info": {
   "codemirror_mode": {
    "name": "ipython",
    "version": 3
   },
   "file_extension": ".py",
   "mimetype": "text/x-python",
   "name": "python",
   "nbconvert_exporter": "python",
   "pygments_lexer": "ipython3",
   "version": "3.8.2"
  }
 },
 "nbformat": 4,
 "nbformat_minor": 4
}
