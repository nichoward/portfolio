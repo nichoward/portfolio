{
 "cells": [
  {
   "cell_type": "code",
   "execution_count": null,
   "metadata": {},
   "outputs": [],
   "source": [
    "#convert roman numerals into readable numbers\n",
    "\n",
    "def roman_numerals(numeral):\n",
    "    num_dict = {\"I\": 1, \"V\" : 5, \"X\" : 10, 'L' : 50 , 'C':100, 'D':500, 'M': 1000}\n",
    "    sum_num = 0\n",
    "    for n in range(len(numeral)):\n",
    "        if len(numeral) == n+1:\n",
    "            sum_num = sum_num + num_dict[numeral[n]]\n",
    "        elif numeral[n] != numeral[n+1] and num_dict[numeral[n]] < num_dict[numeral[n+1]]:\n",
    "            sum_num = sum_num - num_dict[numeral[n]]\n",
    "        else:\n",
    "            sum_num = sum_num + num_dict[numeral[n]]\n",
    "    return sum_num\n",
    "\n",
    "roman_numerals('XL')\n"
   ]
  },
  {
   "cell_type": "code",
   "execution_count": null,
   "metadata": {},
   "outputs": [],
   "source": [
    "#reverse the number \n",
    "\n",
    "def reverse_number(n):\n",
    "    rev_num = 0 \n",
    "    while(n > 0): \n",
    "        a = n % 10\n",
    "        rev_num = rev_num * 10 + a \n",
    "        n = int(n / 10)\n",
    "    return rev_num\n",
    "\n",
    "reverse_number(112)\n"
   ]
  },
  {
   "cell_type": "code",
   "execution_count": null,
   "metadata": {},
   "outputs": [],
   "source": [
    "#given a list of numbers which ones add up to the target?\n",
    "n = [2, 7, 3, 6, 9, 11]\n",
    "target = 8\n",
    "goal = 0\n",
    "\n",
    "def target_sum(num_list, target):\n",
    "    for x in range(len(n)):\n",
    "        goal = target - n[x]\n",
    "        in_list = n.count(goal)\n",
    "        if in_list > 0:\n",
    "            print(n[x], goal)\n",
    "            break\n",
    "\n",
    "target_sum(n, target)"
   ]
  },
  {
   "cell_type": "code",
   "execution_count": null,
   "metadata": {},
   "outputs": [],
   "source": [
    "#palindrome detector \n",
    "\n",
    "def palindrome(num):\n",
    "    num_str = str(num)\n",
    "    stringlength=len(num_str) # calculate length of the list\n",
    "    slicedString=num_str[stringlength::-1]\n",
    "    return slicedString == num_str\n",
    "\n",
    "palindrome(-676)\n",
    "palindrome(676)"
   ]
  },
  {
   "cell_type": "code",
   "execution_count": null,
   "metadata": {},
   "outputs": [],
   "source": [
    "#number that only appears once in the list\n",
    "num_list = [2,6,3,2,3,5,6,6,7,7]\n",
    "\n",
    "def single_number(num_list):\n",
    "    for i in range(len(num_list)):\n",
    "        count = num_list.count(num_list[i])\n",
    "        if count == 1:\n",
    "            return(num_list[i])\n",
    "            break\n",
    "    \n",
    "single_number(num_list)"
   ]
  }
 ],
 "metadata": {
  "kernelspec": {
   "display_name": "Python 3",
   "language": "python",
   "name": "python3"
  },
  "language_info": {
   "codemirror_mode": {
    "name": "ipython",
    "version": 3
   },
   "file_extension": ".py",
   "mimetype": "text/x-python",
   "name": "python",
   "nbconvert_exporter": "python",
   "pygments_lexer": "ipython3",
   "version": "3.8.2"
  }
 },
 "nbformat": 4,
 "nbformat_minor": 4
}
